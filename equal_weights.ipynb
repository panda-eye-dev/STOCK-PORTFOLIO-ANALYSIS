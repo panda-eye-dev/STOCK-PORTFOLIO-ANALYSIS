{
 "cells": [
  {
   "cell_type": "markdown",
   "id": "904ee11d",
   "metadata": {},
   "source": [
    "## Equal Weights Portfolio: Each stock in the portfolio has the same weight. If you invest in 5 stocks equally, each gets 20% of the capital.\n"
   ]
  },
  {
   "cell_type": "code",
   "execution_count": null,
   "id": "7d29fe50",
   "metadata": {},
   "outputs": [],
   "source": [
    "import pandas as pd\n",
    "import numpy as np\n",
    "import yfinance as yf\n",
    "import math"
   ]
  }
 ],
 "metadata": {
  "language_info": {
   "name": "python"
  }
 },
 "nbformat": 4,
 "nbformat_minor": 5
}
