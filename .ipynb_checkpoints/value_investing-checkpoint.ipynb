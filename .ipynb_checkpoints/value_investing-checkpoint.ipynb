{
 "cells": [
  {
   "cell_type": "code",
   "execution_count": 1,
   "id": "4434713c-db5e-4da5-bbb7-4f2f0415d6ec",
   "metadata": {},
   "outputs": [],
   "source": [
    "import yfinance as yf\n",
    "import pandas as pd\n",
    "import numpy as np"
   ]
  },
  {
   "cell_type": "code",
   "execution_count": 2,
   "id": "1f1a1627-fe88-4fa1-8e8d-5201ad0bea35",
   "metadata": {},
   "outputs": [
    {
     "data": {
      "text/html": [
       "<div>\n",
       "<style scoped>\n",
       "    .dataframe tbody tr th:only-of-type {\n",
       "        vertical-align: middle;\n",
       "    }\n",
       "\n",
       "    .dataframe tbody tr th {\n",
       "        vertical-align: top;\n",
       "    }\n",
       "\n",
       "    .dataframe thead th {\n",
       "        text-align: right;\n",
       "    }\n",
       "</style>\n",
       "<table border=\"1\" class=\"dataframe\">\n",
       "  <thead>\n",
       "    <tr style=\"text-align: right;\">\n",
       "      <th></th>\n",
       "      <th>Ticker</th>\n",
       "      <th>Company Name</th>\n",
       "    </tr>\n",
       "  </thead>\n",
       "  <tbody>\n",
       "    <tr>\n",
       "      <th>0</th>\n",
       "      <td>RELIANCE.NS</td>\n",
       "      <td>Reliance Industries</td>\n",
       "    </tr>\n",
       "    <tr>\n",
       "      <th>1</th>\n",
       "      <td>TCS.NS</td>\n",
       "      <td>Tata Consultancy Services</td>\n",
       "    </tr>\n",
       "    <tr>\n",
       "      <th>2</th>\n",
       "      <td>HDFCBANK.NS</td>\n",
       "      <td>HDFC Bank</td>\n",
       "    </tr>\n",
       "    <tr>\n",
       "      <th>3</th>\n",
       "      <td>INFY.NS</td>\n",
       "      <td>Infosys</td>\n",
       "    </tr>\n",
       "    <tr>\n",
       "      <th>4</th>\n",
       "      <td>ICICIBANK.NS</td>\n",
       "      <td>ICICI Bank</td>\n",
       "    </tr>\n",
       "  </tbody>\n",
       "</table>\n",
       "</div>"
      ],
      "text/plain": [
       "         Ticker               Company Name\n",
       "0   RELIANCE.NS        Reliance Industries\n",
       "1        TCS.NS  Tata Consultancy Services\n",
       "2   HDFCBANK.NS                  HDFC Bank\n",
       "3       INFY.NS                    Infosys\n",
       "4  ICICIBANK.NS                 ICICI Bank"
      ]
     },
     "execution_count": 2,
     "metadata": {},
     "output_type": "execute_result"
    }
   ],
   "source": [
    "tickers = pd.read_csv('top_50_indian_stocks.csv')\n",
    "tickers.head()"
   ]
  },
  {
   "cell_type": "markdown",
   "id": "1f17e79d-7425-413a-b19d-07ed7ec78825",
   "metadata": {},
   "source": [
    "## Fetch the financial metrics of stocks that will help in selecting the top 10 stocks for value investing"
   ]
  },
  {
   "cell_type": "code",
   "execution_count": null,
   "id": "48703d30-1aff-42f4-b7be-c727bfe4268e",
   "metadata": {},
   "outputs": [],
   "source": [
    "def fetch_stock_values(tickers):\n",
    "\n",
    "    tickers_list = tickers['Ticker'].values.tolist()\n",
    "\n",
    "    #Initialize an empty list to collect rows\n",
    "    rows = []\n",
    "\n",
    "    for ticker in tickers_list:\n",
    "        ticker_name = ticker\n",
    "        stock = yf.Ticker(ticker)\n",
    "\n",
    "        financials = stock.financials\n",
    "        balanceSheet = stock.balance_sheet\n",
    "        cashflow = stock.cashflow\n",
    "        \n",
    "        price = stock.history(period=\"1d\")['Close'].iloc[-1]\n",
    "        peRatio = stock.info.get(\"forwardPE\", np.nan)\n",
    "        pbRatio = stock.info.get(\"priceToBook\", np.nan)\n",
    "        psRatio = stock.info.get(\"priceToSalesTrailing12Months\", np.nan)\n",
    "        ev = stock.info.get(\"enterpriseValue\", np.nan)\n",
    "        ebitda = stock.info.get(\"ebitda\", np.nan)\n",
    "        evEbitda = ev /ebitda if ev and ebitda else np.nan\n",
    "        grossProfit = stock.info.get(\"grossProfits\", np.nan)\n",
    "        evGrossProfit = ev / grossProfit if ev and grossProfit else np.nan\n",
    "        print(evEbitda, evGrossProfit)\n",
    "\n",
    "    #     #Append the data as a list to the rows\n",
    "    #     rows.append([ticker_name, price, peRatio, pbRatio, psRatio, evEbitda, evGrossProfit])\n",
    "\n",
    "    # #Define the column names\n",
    "    # new_col = [\n",
    "    #     \"Ticker\",\n",
    "    #     \"Price\",\n",
    "    #     \"PE-Ratio\",\n",
    "    #     \"PB-ratio\",\n",
    "    #     \"PS-ratio\",\n",
    "    #     \"EV/EBITDA\",\n",
    "    #     \"EV/GP\"\n",
    "    # ]\n",
    "\n",
    "    # #Convert the list of rows into a dataframe\n",
    "    # new_col_df = pd.DataFrame(rows,columns=new_col)\n",
    "    \n",
    "    \n",
    "fetch_stock_values(tickers)"
   ]
  },
  {
   "cell_type": "code",
   "execution_count": null,
   "id": "caa19219-bc1b-4057-baed-2959c1aec002",
   "metadata": {},
   "outputs": [],
   "source": []
  }
 ],
 "metadata": {
  "kernelspec": {
   "display_name": "Python 3 (ipykernel)",
   "language": "python",
   "name": "python3"
  },
  "language_info": {
   "codemirror_mode": {
    "name": "ipython",
    "version": 3
   },
   "file_extension": ".py",
   "mimetype": "text/x-python",
   "name": "python",
   "nbconvert_exporter": "python",
   "pygments_lexer": "ipython3",
   "version": "3.11.9"
  }
 },
 "nbformat": 4,
 "nbformat_minor": 5
}
